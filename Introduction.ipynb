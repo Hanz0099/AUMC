{
 "cells": [
  {
   "cell_type": "markdown",
   "metadata": {},
   "source": [
    "<h1> Step 1: \n",
    "<h4>Get information of metadata and abstracts from IDR API and PedMed API"
   ]
  },
  {
   "cell_type": "code",
   "execution_count": 1,
   "metadata": {},
   "outputs": [
    {
     "name": "stdout",
     "output_type": "stream",
     "text": [
      "Successfully saved data for project_id 101\n",
      "Successfully saved data for project_id 51\n",
      "Successfully saved data for project_id 52\n",
      "Successfully saved data for project_id 301\n",
      "Successfully saved data for project_id 151\n"
     ]
    }
   ],
   "source": [
    "from IDR_API import save_project_data\n",
    "# 定义要查询的项目 IDs Define the project IDs\n",
    "# all_project_ids = [101, 51, 52, 301, 151, 201, 354, 351, 352, 353, 401, 404, 402, 501, 502, 405, 503, 1201, 505, 552, 751, 752, 753, 754, 504, 701, 801, 1751, 903, 901, 902, 855, 851, 852, 853, 854, 904, 2152, 1104, 1551, 1503, 1505, 1504, 1506, 1502, 1507, 1002, 951, 1302, 1101, 1105, 1102, 1103, 1251, 1051, 1151, 1202, 1152, 1158, 1159, 1160, 1161, 1157, 1305, 1303, 1304, 1351, 1401, 1402, 1403, 1404, 2104, 2102, 2103, 1601, 1602, 1603, 1604, 1605, 1606, 1651, 1451, 2054, 2051, 2052, 1501, 1701, 1854, 1951, 1801, 1902, 1851, 1852, 1853, 1903, 2151, 2301, 2053, 2001, 2101, 2251, 2201, 2252, 2253, 2254, 2255, 2401, 2351, 2551, 2451, 2501, 2601, 2701, 2651, 2757, 2751, 2752, 2753, 2754, 2755, 2756, 2801, 2851, 2852]  \n",
    "project_ids = [101, 51, 52, 301, 151]\n",
    "\n",
    "# 调用函数 Calling function to get JSON names\n",
    "projects = save_project_data(project_ids)"
   ]
  },
  {
   "cell_type": "code",
   "execution_count": 2,
   "metadata": {},
   "outputs": [
    {
     "name": "stdout",
     "output_type": "stream",
     "text": [
      "['Histopathology of mouse knockouts', 'Subdiffraction imaging of centrosomes reveals higher-order organizational features of pericentriolar material.', 'Nuclear pore scaffold structure analyzed by super-resolution microscopy and particle averaging.', 'Focusing and sustaining the antitumor CTL effector killer response by agonist anti-CD137 mAb', 'High resolution imaging reveals heterogeneity in chromatin states between cells that is not inherited through cell division.']\n"
     ]
    }
   ],
   "source": [
    "from IDR_API import extract_publication_titles_from_file\n",
    "\n",
    "# 初始化一个空列表来存储所有提取的标题\n",
    "titles = []\n",
    "\n",
    "# 遍历所有项目文件名，提取标题，并将其添加到列表中\n",
    "for project_file in projects:\n",
    "    title = extract_publication_titles_from_file(project_file)\n",
    "    if title:  # 确保标题存在，不添加空标题\n",
    "        titles.append(title)\n",
    "\n",
    "# 打印所有提取的标题\n",
    "print(titles)\n"
   ]
  },
  {
   "cell_type": "code",
   "execution_count": 3,
   "metadata": {},
   "outputs": [
    {
     "name": "stdout",
     "output_type": "stream",
     "text": [
      "{'Histopathology of mouse knockouts': 'Sepsis-induced cardiac dysfunction (SICD) is a serious complication of sepsis that is associated with increased mortality. Ferroptosis has been reported in the SICD. TaoHe ChengQi decoction (THCQD), a classical traditional Chinese medicinal formula, has multiple beneficial pharmacological effects. The potential effects of THCQD on the SICD remain unknown. To investigate the effect of THCQD on SICD and explore whether this effect is related to the regulation of myocardial ferroptosis through nuclear factor erythroid 2-related factor 2 (Nrf2) activation. We induced sepsis in a mouse model using cecal ligation and puncture (CLP) and administered THCQD (2 and 4 g/kg) and dexamethasone (40 mg/kg). Mice mortality was recorded and survival curves were plotted. Echocardiography, hematoxylin and eosin staining, and analysis of serum myocardial injury markers and inflammatory factors were used to evaluate cardiac pathology. Myocardial ferroptosis was detected by quantifying specific biomarker content and protein levels. Through HPLC-Q-Exactive-MS analysis, we identified the components of the THCQD. Network pharmacology analysis and Cellular Thermal Shift Assay (CETSA) were utilized to predict the targets of THCQD for treating SICD. We detected the expression of Nrf2 using Western blotting or immunofluorescence. An RSL3-induced ferroptosis model was established using neonatal rat cardiomyocytes (NRCMs) to further explore the pharmacological mechanism of THCQD. In addition to measuring cell viability, we observed changes in NRCM mitochondria using electron microscopy and JC-1 staining. NRF2 inhibitor ML385 and Nrf2 knockout mice were used to validate whether THCQD exerted protective effects against SICD through Nrf2-mediated ferroptosis signaling. THCQD reduced mortality in septic mice, protected against CLP-induced myocardial injury, decreased systemic inflammatory response, and prevented myocardial ferroptosis. Network pharmacology analysis and CETSA experiments predicted that THCQD may protect against SICD by activating the Nrf2 signaling pathway. Western blotting and immunofluorescence showed that THCQD activated Nrf2 in cardiac tissue. THCQDs consistently mitigated RSL3-induced ferroptosis in NRCM, which is related to Nrf2. Furthermore, the pharmacological inhibition of Nrf2 and genetic Nrf2 knockout partially reversed the protective effects of THCQD on SICD and ferroptosis. The effect of THCQD on SICD was achieved by activating Nrf2 and its downstream pathways.', 'Subdiffraction imaging of centrosomes reveals higher-order organizational features of pericentriolar material.': 'The centrosome is the main microtubule organization centre of animal cells. It is composed of a centriole pair surrounded by pericentriolar material (PCM). Traditionally described as amorphous, the architecture of the PCM is not known, although its intricate mode of assembly alludes to the presence of a functional, hierarchical structure. Here we used subdiffraction imaging to reveal organizational features of the PCM. Interphase PCM components adopt a concentric toroidal distribution of discrete diameter around centrioles. Positional mapping of multiple non-overlapping epitopes revealed that pericentrin (PCNT) is an elongated molecule extending away from the centriole. We find that PCM components occupy separable spatial domains within mitotic PCM that are maintained in the absence of microtubule nucleation complexes and further implicate PCNT and CDK5RAP2 in the organization and assembly of PCM. Globally, this work highlights the role of higher-order PCM organization in the regulation of centrosome assembly and function.', 'Nuclear pore scaffold structure analyzed by super-resolution microscopy and particle averaging.': \"Much of life's essential molecular machinery consists of large protein assemblies that currently pose challenges for structure determination. A prominent example is the nuclear pore complex (NPC), for which the organization of its individual components remains unknown. By combining stochastic super-resolution microscopy, to directly resolve the ringlike structure of the NPC, with single particle averaging, to use information from thousands of pores, we determined the average positions of fluorescent molecular labels in the NPC with a precision well below 1 nanometer. Applying this approach systematically to the largest building block of the NPC, the Nup107-160 subcomplex, we assessed the structure of the NPC scaffold. Thus, light microscopy can be used to study the molecular organization of large protein complexes in situ in whole cells.\", 'Focusing and sustaining the antitumor CTL effector killer response by agonist anti-CD137 mAb': 'Cancer immunotherapy is undergoing significant progress due to recent clinical successes by refined adoptive T-cell transfer and immunostimulatory monoclonal Ab (mAbs). B16F10-derived OVA-expressing mouse melanomas resist curative immunotherapy with either adoptive transfer of activated anti-OVA OT1 CTLs or agonist anti-CD137 (4-1BB) mAb. However, when acting in synergistic combination, these treatments consistently achieve tumor eradication. Tumor-infiltrating lymphocytes that accomplish tumor rejection exhibit enhanced effector functions in both transferred OT-1 and endogenous cytotoxic T lymphocytes (CTLs). This is consistent with higher levels of expression of eomesodermin in transferred and endogenous CTLs and with intravital live-cell two-photon microscopy evidence for more efficacious CTL-mediated tumor cell killing. Anti-CD137 mAb treatment resulted in prolonged intratumor persistence of the OT1 CTL-effector cells and improved function with focused and confined interaction kinetics of OT-1 CTL with target cells and increased apoptosis induction lasting up to six days postadoptive transfer. The synergy of adoptive T-cell therapy and agonist anti-CD137 mAb thus results from in vivo enhancement and sustainment of effector functions.', 'High resolution imaging reveals heterogeneity in chromatin states between cells that is not inherited through cell division.': 'Nuclear chromosome compaction is non-random and dynamic. The spatial distance among genomic elements instantly modulates transcription. Visualization of the genome organization in the cell nucleus is essential to understand nuclear function. In addition to cell type-dependent organization, high-resolution 3D imaging shows heterogeneous compaction of chromatin organization among the same cell type. Questions remain to be answered if these structural variations were the snapshots of dynamic organization at different time points and if they are functionally different. Live-cell imaging has provided unique insights into dynamic genome organization at short (milliseconds) and long (hours) time scales. The recent development of CRISPR-based imaging opened windows for studying dynamic chromatin organization in single cells in real time. Here we highlight these CRISPR-based imaging techniques and discuss their advances and challenges as a powerful live-cell imaging method that poses high potential to generate paradigm-shifting discoveries and reveal functional implications of dynamic chromatin organization.'}\n"
     ]
    }
   ],
   "source": [
    "from Get_Publication_Content import process_titles_and_fetch_abstracts\n",
    "results = process_titles_and_fetch_abstracts(titles)\n",
    "print(results)"
   ]
  }
 ],
 "metadata": {
  "kernelspec": {
   "display_name": "Python 3",
   "language": "python",
   "name": "python3"
  },
  "language_info": {
   "codemirror_mode": {
    "name": "ipython",
    "version": 3
   },
   "file_extension": ".py",
   "mimetype": "text/x-python",
   "name": "python",
   "nbconvert_exporter": "python",
   "pygments_lexer": "ipython3",
   "version": "3.11.0"
  }
 },
 "nbformat": 4,
 "nbformat_minor": 2
}
